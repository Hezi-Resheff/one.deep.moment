{
 "cells": [
  {
   "cell_type": "code",
   "execution_count": 1,
   "id": "803d61e9",
   "metadata": {},
   "outputs": [],
   "source": [
    "import numpy as np \n",
    "import pandas as pd \n",
    "import matplotlib.pyplot as plt "
   ]
  },
  {
   "cell_type": "code",
   "execution_count": 2,
   "id": "e2b96959",
   "metadata": {},
   "outputs": [],
   "source": [
    "import os, sys \n",
    "sys.path.append(os.path.expanduser(\"~/git/butools/Python\"))\n",
    "import butools \n",
    "from butools.ph import *"
   ]
  },
  {
   "cell_type": "code",
   "execution_count": 3,
   "id": "6bb3cf33",
   "metadata": {},
   "outputs": [],
   "source": [
    "sys.path.append(os.path.abspath(\"..\"))\n",
    "from utils import compute_first_n_moments"
   ]
  },
  {
   "cell_type": "code",
   "execution_count": 4,
   "id": "6022ef02",
   "metadata": {},
   "outputs": [
    {
     "data": {
      "text/plain": [
       "[1.0, 2.0, 6.0]"
      ]
     },
     "execution_count": 4,
     "metadata": {},
     "output_type": "execute_result"
    }
   ],
   "source": [
    "# Test \n",
    "a, A = APHFrom2Moments([1, 2])\n",
    "MomentsFromPH(ml.matrix(a), ml.matrix(A))"
   ]
  },
  {
   "cell_type": "code",
   "execution_count": 5,
   "id": "5e4bf9c4",
   "metadata": {},
   "outputs": [
    {
     "data": {
      "text/plain": [
       "[0.9999999999999999, 2.1103189377260576, 6.7550119739413725]"
      ]
     },
     "execution_count": 5,
     "metadata": {},
     "output_type": "execute_result"
    }
   ],
   "source": [
    "# Test \n",
    "a, A = RandomPH(order=2)\n",
    "MomentsFromPH(ml.matrix(a), ml.matrix(A))"
   ]
  },
  {
   "cell_type": "code",
   "execution_count": 6,
   "id": "bf5e9b4e",
   "metadata": {},
   "outputs": [],
   "source": [
    "def sample_coxian(degree, max_rate):\n",
    "    lambdas = np.random.rand(degree) * max_rate \n",
    "    ps = np.random.rand(degree - 1) \n",
    "    A = np.diag(-lambdas) + np.diag(lambdas[:degree-1] * ps, k=1)\n",
    "    alpha = np.eye(degree)[[0]]\n",
    "    return alpha, A"
   ]
  },
  {
   "cell_type": "code",
   "execution_count": 7,
   "id": "d798cb64",
   "metadata": {},
   "outputs": [
    {
     "data": {
      "text/plain": [
       "[156.91738854641022,\n",
       " 48784.25725555411,\n",
       " 22747760.92823944,\n",
       " 14142817454.63645,\n",
       " 10991152285461.98]"
      ]
     },
     "execution_count": 7,
     "metadata": {},
     "output_type": "execute_result"
    }
   ],
   "source": [
    "# Example \n",
    "a, A = sample_coxian(degree=3, max_rate=1)\n",
    "MomentsFromPH(ml.matrix(a), ml.matrix(A))"
   ]
  },
  {
   "cell_type": "code",
   "execution_count": 8,
   "id": "61bb8067",
   "metadata": {},
   "outputs": [
    {
     "data": {
      "text/plain": [
       "array([1.56917389e+02, 4.87842573e+04, 2.27477609e+07, 1.41428175e+10,\n",
       "       1.09911523e+13])"
      ]
     },
     "execution_count": 8,
     "metadata": {},
     "output_type": "execute_result"
    }
   ],
   "source": [
    "compute_first_n_moments(a, A, n=5)"
   ]
  },
  {
   "cell_type": "code",
   "execution_count": 12,
   "id": "d95a37c6",
   "metadata": {},
   "outputs": [
    {
     "data": {
      "text/plain": [
       "array([ 1.        ,  1.85566694,  5.02136724, 17.90113736, 79.31650392])"
      ]
     },
     "execution_count": 12,
     "metadata": {},
     "output_type": "execute_result"
    }
   ],
   "source": [
    "A2 = A * compute_first_n_moments(a, A, n=5)[0]\n",
    "compute_first_n_moments(a, A2, n=5)"
   ]
  },
  {
   "cell_type": "markdown",
   "id": "95c28441",
   "metadata": {},
   "source": [
    "### Stats of coxian samples "
   ]
  },
  {
   "cell_type": "code",
   "execution_count": 9,
   "id": "f7b00732",
   "metadata": {},
   "outputs": [],
   "source": [
    "degree = 5\n",
    "max_rate = 5\n",
    "moments = []\n",
    "\n",
    "for _ in range(10000):\n",
    "    a, A = sample_coxian(degree=degree, max_rate=max_rate)\n",
    "    m = MomentsFromPH(a, A)\n",
    "    moments.append(m)"
   ]
  },
  {
   "cell_type": "code",
   "execution_count": 10,
   "id": "c3611957",
   "metadata": {},
   "outputs": [
    {
     "data": {
      "text/html": [
       "<div>\n",
       "<style scoped>\n",
       "    .dataframe tbody tr th:only-of-type {\n",
       "        vertical-align: middle;\n",
       "    }\n",
       "\n",
       "    .dataframe tbody tr th {\n",
       "        vertical-align: top;\n",
       "    }\n",
       "\n",
       "    .dataframe thead th {\n",
       "        text-align: right;\n",
       "    }\n",
       "</style>\n",
       "<table border=\"1\" class=\"dataframe\">\n",
       "  <thead>\n",
       "    <tr style=\"text-align: right;\">\n",
       "      <th></th>\n",
       "      <th>Moment-1</th>\n",
       "      <th>Moment-2</th>\n",
       "      <th>Moment-3</th>\n",
       "      <th>Moment-4</th>\n",
       "      <th>Moment-5</th>\n",
       "      <th>Moment-6</th>\n",
       "      <th>Moment-7</th>\n",
       "      <th>Moment-8</th>\n",
       "      <th>Moment-9</th>\n",
       "    </tr>\n",
       "  </thead>\n",
       "  <tbody>\n",
       "    <tr>\n",
       "      <th>count</th>\n",
       "      <td>10000.000000</td>\n",
       "      <td>1.000000e+04</td>\n",
       "      <td>1.000000e+04</td>\n",
       "      <td>1.000000e+04</td>\n",
       "      <td>1.000000e+04</td>\n",
       "      <td>1.000000e+04</td>\n",
       "      <td>1.000000e+04</td>\n",
       "      <td>1.000000e+04</td>\n",
       "      <td>1.000000e+04</td>\n",
       "    </tr>\n",
       "    <tr>\n",
       "      <th>mean</th>\n",
       "      <td>1.784938</td>\n",
       "      <td>8.668176e+02</td>\n",
       "      <td>3.762312e+06</td>\n",
       "      <td>2.645799e+10</td>\n",
       "      <td>2.391689e+14</td>\n",
       "      <td>2.606984e+18</td>\n",
       "      <td>3.318312e+22</td>\n",
       "      <td>4.827996e+26</td>\n",
       "      <td>7.902879e+30</td>\n",
       "    </tr>\n",
       "    <tr>\n",
       "      <th>std</th>\n",
       "      <td>20.742850</td>\n",
       "      <td>6.640297e+04</td>\n",
       "      <td>3.610375e+08</td>\n",
       "      <td>2.626238e+12</td>\n",
       "      <td>2.388262e+16</td>\n",
       "      <td>2.606233e+20</td>\n",
       "      <td>3.318115e+24</td>\n",
       "      <td>4.827936e+28</td>\n",
       "      <td>7.902858e+32</td>\n",
       "    </tr>\n",
       "    <tr>\n",
       "      <th>min</th>\n",
       "      <td>0.200061</td>\n",
       "      <td>8.004847e-02</td>\n",
       "      <td>4.804363e-02</td>\n",
       "      <td>3.844655e-02</td>\n",
       "      <td>3.845819e-02</td>\n",
       "      <td>4.616381e-02</td>\n",
       "      <td>6.464892e-02</td>\n",
       "      <td>1.034696e-01</td>\n",
       "      <td>1.863017e-01</td>\n",
       "    </tr>\n",
       "    <tr>\n",
       "      <th>25%</th>\n",
       "      <td>0.264598</td>\n",
       "      <td>1.400244e-01</td>\n",
       "      <td>1.111506e-01</td>\n",
       "      <td>1.176409e-01</td>\n",
       "      <td>1.556379e-01</td>\n",
       "      <td>2.470889e-01</td>\n",
       "      <td>4.576549e-01</td>\n",
       "      <td>9.687572e-01</td>\n",
       "      <td>2.306982e+00</td>\n",
       "    </tr>\n",
       "    <tr>\n",
       "      <th>50%</th>\n",
       "      <td>0.400704</td>\n",
       "      <td>3.211273e-01</td>\n",
       "      <td>3.860309e-01</td>\n",
       "      <td>6.187365e-01</td>\n",
       "      <td>1.239651e+00</td>\n",
       "      <td>2.980398e+00</td>\n",
       "      <td>8.359802e+00</td>\n",
       "      <td>2.679845e+01</td>\n",
       "      <td>9.664422e+01</td>\n",
       "    </tr>\n",
       "    <tr>\n",
       "      <th>75%</th>\n",
       "      <td>0.825560</td>\n",
       "      <td>1.363100e+00</td>\n",
       "      <td>3.375965e+00</td>\n",
       "      <td>1.114825e+01</td>\n",
       "      <td>4.601778e+01</td>\n",
       "      <td>2.279428e+02</td>\n",
       "      <td>1.317264e+03</td>\n",
       "      <td>8.699848e+03</td>\n",
       "      <td>6.464025e+04</td>\n",
       "    </tr>\n",
       "    <tr>\n",
       "      <th>max</th>\n",
       "      <td>1818.779821</td>\n",
       "      <td>6.615920e+06</td>\n",
       "      <td>3.609871e+10</td>\n",
       "      <td>2.626224e+14</td>\n",
       "      <td>2.388262e+18</td>\n",
       "      <td>2.606233e+22</td>\n",
       "      <td>3.318115e+26</td>\n",
       "      <td>4.827936e+30</td>\n",
       "      <td>7.902858e+34</td>\n",
       "    </tr>\n",
       "  </tbody>\n",
       "</table>\n",
       "</div>"
      ],
      "text/plain": [
       "           Moment-1      Moment-2      Moment-3      Moment-4      Moment-5  \\\n",
       "count  10000.000000  1.000000e+04  1.000000e+04  1.000000e+04  1.000000e+04   \n",
       "mean       1.784938  8.668176e+02  3.762312e+06  2.645799e+10  2.391689e+14   \n",
       "std       20.742850  6.640297e+04  3.610375e+08  2.626238e+12  2.388262e+16   \n",
       "min        0.200061  8.004847e-02  4.804363e-02  3.844655e-02  3.845819e-02   \n",
       "25%        0.264598  1.400244e-01  1.111506e-01  1.176409e-01  1.556379e-01   \n",
       "50%        0.400704  3.211273e-01  3.860309e-01  6.187365e-01  1.239651e+00   \n",
       "75%        0.825560  1.363100e+00  3.375965e+00  1.114825e+01  4.601778e+01   \n",
       "max     1818.779821  6.615920e+06  3.609871e+10  2.626224e+14  2.388262e+18   \n",
       "\n",
       "           Moment-6      Moment-7      Moment-8      Moment-9  \n",
       "count  1.000000e+04  1.000000e+04  1.000000e+04  1.000000e+04  \n",
       "mean   2.606984e+18  3.318312e+22  4.827996e+26  7.902879e+30  \n",
       "std    2.606233e+20  3.318115e+24  4.827936e+28  7.902858e+32  \n",
       "min    4.616381e-02  6.464892e-02  1.034696e-01  1.863017e-01  \n",
       "25%    2.470889e-01  4.576549e-01  9.687572e-01  2.306982e+00  \n",
       "50%    2.980398e+00  8.359802e+00  2.679845e+01  9.664422e+01  \n",
       "75%    2.279428e+02  1.317264e+03  8.699848e+03  6.464025e+04  \n",
       "max    2.606233e+22  3.318115e+26  4.827936e+30  7.902858e+34  "
      ]
     },
     "execution_count": 10,
     "metadata": {},
     "output_type": "execute_result"
    }
   ],
   "source": [
    "moments = pd.DataFrame(moments)\n",
    "t = moments.describe()\n",
    "t.columns = [f\"Moment-{m+1}\" for m in t.columns]\n",
    "t"
   ]
  },
  {
   "cell_type": "code",
   "execution_count": null,
   "id": "32dec1e9",
   "metadata": {},
   "outputs": [],
   "source": []
  },
  {
   "cell_type": "code",
   "execution_count": null,
   "id": "b8cd1f0b",
   "metadata": {},
   "outputs": [],
   "source": []
  }
 ],
 "metadata": {
  "kernelspec": {
   "display_name": "Python 3 (ipykernel)",
   "language": "python",
   "name": "python3"
  },
  "language_info": {
   "codemirror_mode": {
    "name": "ipython",
    "version": 3
   },
   "file_extension": ".py",
   "mimetype": "text/x-python",
   "name": "python",
   "nbconvert_exporter": "python",
   "pygments_lexer": "ipython3",
   "version": "3.11.4"
  }
 },
 "nbformat": 4,
 "nbformat_minor": 5
}
