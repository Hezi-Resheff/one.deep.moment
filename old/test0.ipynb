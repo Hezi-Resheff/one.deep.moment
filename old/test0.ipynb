{
 "cells": [
  {
   "cell_type": "code",
   "execution_count": 2,
   "id": "803d61e9",
   "metadata": {},
   "outputs": [],
   "source": [
    "import numpy as np \n",
    "import pandas as pd \n",
    "import matplotlib.pyplot as plt "
   ]
  },
  {
   "cell_type": "code",
   "execution_count": 3,
   "id": "e2b96959",
   "metadata": {},
   "outputs": [],
   "source": [
    "import os, sys \n",
    "sys.path.append(os.path.expanduser(\"~/git/butools/Python\"))\n",
    "import butools \n",
    "from butools.ph import *"
   ]
  },
  {
   "cell_type": "code",
   "execution_count": 4,
   "id": "6022ef02",
   "metadata": {},
   "outputs": [
    {
     "data": {
      "text/plain": [
       "[1.0, 2.0, 6.0]"
      ]
     },
     "execution_count": 4,
     "metadata": {},
     "output_type": "execute_result"
    }
   ],
   "source": [
    "# Test \n",
    "a, A = APHFrom2Moments([1, 2])\n",
    "MomentsFromPH(a, A)"
   ]
  },
  {
   "cell_type": "code",
   "execution_count": 5,
   "id": "5e4bf9c4",
   "metadata": {},
   "outputs": [
    {
     "data": {
      "text/plain": [
       "[1.0, 1.8827414661053736, 5.229946313520631]"
      ]
     },
     "execution_count": 5,
     "metadata": {},
     "output_type": "execute_result"
    }
   ],
   "source": [
    "# Test \n",
    "a, A = RandomPH(order=2)\n",
    "MomentsFromPH(a, A)"
   ]
  },
  {
   "cell_type": "code",
   "execution_count": 6,
   "id": "bf5e9b4e",
   "metadata": {},
   "outputs": [],
   "source": [
    "def sample_coxian(degree, max_rate):\n",
    "    lambdas = np.random.rand(degree) * max_rate \n",
    "    ps = np.random.rand(degree - 1) \n",
    "    A = np.diag(-lambdas) + np.diag(lambdas[:degree-1] * ps, k=1)\n",
    "    alpha = np.eye(degree)[[0]]\n",
    "    return alpha, A"
   ]
  },
  {
   "cell_type": "code",
   "execution_count": 7,
   "id": "d798cb64",
   "metadata": {},
   "outputs": [
    {
     "data": {
      "text/plain": [
       "[5.695939926260853,\n",
       " 64.88746328714498,\n",
       " 1108.7852785531031,\n",
       " 25262.297351043526,\n",
       " 719462.6405544131]"
      ]
     },
     "execution_count": 7,
     "metadata": {},
     "output_type": "execute_result"
    }
   ],
   "source": [
    "# Example \n",
    "a, A = sample_coxian(degree=3, max_rate=1)\n",
    "MomentsFromPH(a, A)"
   ]
  },
  {
   "cell_type": "markdown",
   "id": "95c28441",
   "metadata": {},
   "source": [
    "### Stats of coxian samples "
   ]
  },
  {
   "cell_type": "code",
   "execution_count": 8,
   "id": "f7b00732",
   "metadata": {},
   "outputs": [],
   "source": [
    "degree = 5\n",
    "max_rate = 5\n",
    "moments = []\n",
    "\n",
    "for _ in range(10000):\n",
    "    a, A = sample_coxian(degree=degree, max_rate=max_rate)\n",
    "    m = MomentsFromPH(a, A)\n",
    "    moments.append(m)"
   ]
  },
  {
   "cell_type": "code",
   "execution_count": 9,
   "id": "c3611957",
   "metadata": {},
   "outputs": [
    {
     "data": {
      "text/html": [
       "<div>\n",
       "<style scoped>\n",
       "    .dataframe tbody tr th:only-of-type {\n",
       "        vertical-align: middle;\n",
       "    }\n",
       "\n",
       "    .dataframe tbody tr th {\n",
       "        vertical-align: top;\n",
       "    }\n",
       "\n",
       "    .dataframe thead th {\n",
       "        text-align: right;\n",
       "    }\n",
       "</style>\n",
       "<table border=\"1\" class=\"dataframe\">\n",
       "  <thead>\n",
       "    <tr style=\"text-align: right;\">\n",
       "      <th></th>\n",
       "      <th>Moment-1</th>\n",
       "      <th>Moment-2</th>\n",
       "      <th>Moment-3</th>\n",
       "      <th>Moment-4</th>\n",
       "      <th>Moment-5</th>\n",
       "      <th>Moment-6</th>\n",
       "      <th>Moment-7</th>\n",
       "      <th>Moment-8</th>\n",
       "      <th>Moment-9</th>\n",
       "    </tr>\n",
       "  </thead>\n",
       "  <tbody>\n",
       "    <tr>\n",
       "      <th>count</th>\n",
       "      <td>10000.000000</td>\n",
       "      <td>1.000000e+04</td>\n",
       "      <td>1.000000e+04</td>\n",
       "      <td>1.000000e+04</td>\n",
       "      <td>1.000000e+04</td>\n",
       "      <td>1.000000e+04</td>\n",
       "      <td>1.000000e+04</td>\n",
       "      <td>1.000000e+04</td>\n",
       "      <td>1.000000e+04</td>\n",
       "    </tr>\n",
       "    <tr>\n",
       "      <th>mean</th>\n",
       "      <td>2.589843</td>\n",
       "      <td>9.055129e+03</td>\n",
       "      <td>1.466287e+08</td>\n",
       "      <td>3.515502e+12</td>\n",
       "      <td>1.077544e+17</td>\n",
       "      <td>3.984194e+21</td>\n",
       "      <td>1.720807e+26</td>\n",
       "      <td>8.496591e+30</td>\n",
       "      <td>4.719989e+35</td>\n",
       "    </tr>\n",
       "    <tr>\n",
       "      <th>std</th>\n",
       "      <td>67.240682</td>\n",
       "      <td>7.654368e+05</td>\n",
       "      <td>1.411411e+10</td>\n",
       "      <td>3.483958e+14</td>\n",
       "      <td>1.075229e+19</td>\n",
       "      <td>3.982132e+23</td>\n",
       "      <td>1.720590e+28</td>\n",
       "      <td>8.496330e+32</td>\n",
       "      <td>4.719954e+37</td>\n",
       "    </tr>\n",
       "    <tr>\n",
       "      <th>min</th>\n",
       "      <td>0.200008</td>\n",
       "      <td>8.000620e-02</td>\n",
       "      <td>4.800558e-02</td>\n",
       "      <td>3.840595e-02</td>\n",
       "      <td>3.840744e-02</td>\n",
       "      <td>4.609071e-02</td>\n",
       "      <td>6.452950e-02</td>\n",
       "      <td>1.032512e-01</td>\n",
       "      <td>1.858593e-01</td>\n",
       "    </tr>\n",
       "    <tr>\n",
       "      <th>25%</th>\n",
       "      <td>0.267241</td>\n",
       "      <td>1.428360e-01</td>\n",
       "      <td>1.145151e-01</td>\n",
       "      <td>1.224127e-01</td>\n",
       "      <td>1.635687e-01</td>\n",
       "      <td>2.622740e-01</td>\n",
       "      <td>4.906334e-01</td>\n",
       "      <td>1.048941e+00</td>\n",
       "      <td>2.522883e+00</td>\n",
       "    </tr>\n",
       "    <tr>\n",
       "      <th>50%</th>\n",
       "      <td>0.401750</td>\n",
       "      <td>3.228060e-01</td>\n",
       "      <td>3.890619e-01</td>\n",
       "      <td>6.252225e-01</td>\n",
       "      <td>1.255916e+00</td>\n",
       "      <td>3.027385e+00</td>\n",
       "      <td>8.513764e+00</td>\n",
       "      <td>2.736324e+01</td>\n",
       "      <td>9.893864e+01</td>\n",
       "    </tr>\n",
       "    <tr>\n",
       "      <th>75%</th>\n",
       "      <td>0.783254</td>\n",
       "      <td>1.226975e+00</td>\n",
       "      <td>2.883100e+00</td>\n",
       "      <td>9.032802e+00</td>\n",
       "      <td>3.537491e+01</td>\n",
       "      <td>1.662453e+02</td>\n",
       "      <td>9.114866e+02</td>\n",
       "      <td>5.711407e+03</td>\n",
       "      <td>4.026137e+04</td>\n",
       "    </tr>\n",
       "    <tr>\n",
       "      <th>max</th>\n",
       "      <td>6172.539170</td>\n",
       "      <td>7.620048e+07</td>\n",
       "      <td>1.411051e+12</td>\n",
       "      <td>3.483908e+16</td>\n",
       "      <td>1.075228e+21</td>\n",
       "      <td>3.982132e+25</td>\n",
       "      <td>1.720590e+30</td>\n",
       "      <td>8.496330e+34</td>\n",
       "      <td>4.719954e+39</td>\n",
       "    </tr>\n",
       "  </tbody>\n",
       "</table>\n",
       "</div>"
      ],
      "text/plain": [
       "           Moment-1      Moment-2      Moment-3      Moment-4      Moment-5  \\\n",
       "count  10000.000000  1.000000e+04  1.000000e+04  1.000000e+04  1.000000e+04   \n",
       "mean       2.589843  9.055129e+03  1.466287e+08  3.515502e+12  1.077544e+17   \n",
       "std       67.240682  7.654368e+05  1.411411e+10  3.483958e+14  1.075229e+19   \n",
       "min        0.200008  8.000620e-02  4.800558e-02  3.840595e-02  3.840744e-02   \n",
       "25%        0.267241  1.428360e-01  1.145151e-01  1.224127e-01  1.635687e-01   \n",
       "50%        0.401750  3.228060e-01  3.890619e-01  6.252225e-01  1.255916e+00   \n",
       "75%        0.783254  1.226975e+00  2.883100e+00  9.032802e+00  3.537491e+01   \n",
       "max     6172.539170  7.620048e+07  1.411051e+12  3.483908e+16  1.075228e+21   \n",
       "\n",
       "           Moment-6      Moment-7      Moment-8      Moment-9  \n",
       "count  1.000000e+04  1.000000e+04  1.000000e+04  1.000000e+04  \n",
       "mean   3.984194e+21  1.720807e+26  8.496591e+30  4.719989e+35  \n",
       "std    3.982132e+23  1.720590e+28  8.496330e+32  4.719954e+37  \n",
       "min    4.609071e-02  6.452950e-02  1.032512e-01  1.858593e-01  \n",
       "25%    2.622740e-01  4.906334e-01  1.048941e+00  2.522883e+00  \n",
       "50%    3.027385e+00  8.513764e+00  2.736324e+01  9.893864e+01  \n",
       "75%    1.662453e+02  9.114866e+02  5.711407e+03  4.026137e+04  \n",
       "max    3.982132e+25  1.720590e+30  8.496330e+34  4.719954e+39  "
      ]
     },
     "execution_count": 9,
     "metadata": {},
     "output_type": "execute_result"
    }
   ],
   "source": [
    "moments = pd.DataFrame(moments)\n",
    "t = moments.describe()\n",
    "t.columns = [f\"Moment-{m+1}\" for m in t.columns]\n",
    "t"
   ]
  },
  {
   "cell_type": "code",
   "execution_count": null,
   "id": "32dec1e9",
   "metadata": {},
   "outputs": [],
   "source": []
  },
  {
   "cell_type": "code",
   "execution_count": null,
   "id": "b8cd1f0b",
   "metadata": {},
   "outputs": [],
   "source": []
  }
 ],
 "metadata": {
  "kernelspec": {
   "display_name": "Python 3 (ipykernel)",
   "language": "python",
   "name": "python3"
  },
  "language_info": {
   "codemirror_mode": {
    "name": "ipython",
    "version": 3
   },
   "file_extension": ".py",
   "mimetype": "text/x-python",
   "name": "python",
   "nbconvert_exporter": "python",
   "pygments_lexer": "ipython3",
   "version": "3.11.4"
  }
 },
 "nbformat": 4,
 "nbformat_minor": 5
}
